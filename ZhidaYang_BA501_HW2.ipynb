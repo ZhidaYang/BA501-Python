{
 "cells": [
  {
   "cell_type": "code",
   "execution_count": null,
   "metadata": {
    "collapsed": true
   },
   "outputs": [],
   "source": [
    "# 1) we can use pandas to creat DataFrame with duplicate values.df=pd.DataFrame()\n",
    "# 2) Using df.duplicated() to find out which observes are duplicates\n",
    "# 3) Using  df.drop_duplicates() to drop duplicates"
   ]
  },
  {
   "cell_type": "code",
   "execution_count": 95,
   "metadata": {},
   "outputs": [
    {
     "ename": "SyntaxError",
     "evalue": "invalid syntax (<ipython-input-95-e696955cc097>, line 2)",
     "output_type": "error",
     "traceback": [
      "\u001b[1;36m  File \u001b[1;32m\"<ipython-input-95-e696955cc097>\"\u001b[1;36m, line \u001b[1;32m2\u001b[0m\n\u001b[1;33m    SELECT COUNT(*) AS COUNT_ACCEPT\u001b[0m\n\u001b[1;37m               ^\u001b[0m\n\u001b[1;31mSyntaxError\u001b[0m\u001b[1;31m:\u001b[0m invalid syntax\n"
     ]
    }
   ],
   "source": [
    "#SQL\n",
    "SELECT COUNT(*) AS COUNT_ACCEPT\n",
    "INTO Accept_temp\n",
    "FROM Request_accepted\n",
    "WHERE time IS NOT NULL \n",
    "AND acceptor_id IS NOT NULL \n",
    "AND sent_to_id IS NOT NULL;\n",
    "\n",
    "SELECT COUNT(*) AS COUNT_REQUEST\n",
    "INTO Request_temp\n",
    "FROM friend_request\n",
    "WHERE request_id IS NOT NULL\n",
    "AND time IS NOT NULL\n",
    "AND sent_to_id IS NOT NULL\n",
    "\n",
    "SELECT COUNT_ACCEPT/COUNT_REQUEST AS ACCEPTANCE_RATE\n",
    "FROM Accept_temp,Request_temp\n"
   ]
  },
  {
   "cell_type": "code",
   "execution_count": 1,
   "metadata": {},
   "outputs": [
    {
     "ename": "ModuleNotFoundError",
     "evalue": "No module named 'DataFrame'",
     "output_type": "error",
     "traceback": [
      "\u001b[1;31m---------------------------------------------------------------------------\u001b[0m",
      "\u001b[1;31mModuleNotFoundError\u001b[0m                       Traceback (most recent call last)",
      "\u001b[1;32m<ipython-input-1-f2f9c58cc36e>\u001b[0m in \u001b[0;36m<module>\u001b[1;34m()\u001b[0m\n\u001b[0;32m      2\u001b[0m \u001b[1;32mimport\u001b[0m \u001b[0mnumpy\u001b[0m \u001b[1;32mas\u001b[0m \u001b[0mnp\u001b[0m\u001b[1;33m\u001b[0m\u001b[0m\n\u001b[0;32m      3\u001b[0m \u001b[1;32mimport\u001b[0m \u001b[0mpandas\u001b[0m \u001b[1;32mas\u001b[0m \u001b[0mpd\u001b[0m\u001b[1;33m\u001b[0m\u001b[0m\n\u001b[1;32m----> 4\u001b[1;33m \u001b[1;32mimport\u001b[0m \u001b[0mDataFrame\u001b[0m \u001b[1;32mas\u001b[0m \u001b[0mdf\u001b[0m\u001b[1;33m\u001b[0m\u001b[0m\n\u001b[0m\u001b[0;32m      5\u001b[0m \u001b[1;32mimport\u001b[0m \u001b[0mscipy\u001b[0m\u001b[1;33m\u001b[0m\u001b[0m\n\u001b[0;32m      6\u001b[0m \u001b[0mdf1\u001b[0m \u001b[1;33m=\u001b[0m \u001b[0mpd\u001b[0m\u001b[1;33m.\u001b[0m\u001b[0mread_csv\u001b[0m\u001b[1;33m(\u001b[0m\u001b[1;33m)\u001b[0m\u001b[1;33m\u001b[0m\u001b[0m\n",
      "\u001b[1;31mModuleNotFoundError\u001b[0m: No module named 'DataFrame'"
     ]
    }
   ],
   "source": [
    "#PYTHON\n",
    "import numpy as np\n",
    "import pandas as pd\n",
    "import DataFrame as df\n",
    "import scipy\n",
    "df1 = pd.read_csv(\"friend_request.csv\")\n",
    "df2 = pd.read_csv(\"request_qccepted.csv\")\n",
    "len(df1.index)/len(df2.index)\n"
   ]
  },
  {
   "cell_type": "code",
   "execution_count": 101,
   "metadata": {
    "collapsed": true
   },
   "outputs": [],
   "source": [
    "import numpy as np\n",
    "import pandas as pd\n",
    "from pandas import DataFrame\n",
    "import scipy\n",
    "%matplotlib inline\n",
    "import matplotlib.pyplot as plt\n",
    "import datetime"
   ]
  },
  {
   "cell_type": "code",
   "execution_count": 3,
   "metadata": {},
   "outputs": [
    {
     "name": "stdout",
     "output_type": "stream",
     "text": [
      "VISAELECTRON\n"
     ]
    }
   ],
   "source": [
    "cc = \"4175004175004172\"\n",
    "if (cc[0] == \"4\") and (len(cc) == 16):\n",
    "    if(cc[0:4] == \"4026\") or (cc[0:6] == \"417500\") or (cc[0:4] == \"4405\") or (cc[0:4] == \"4508\") or (cc[0:4] == \"4844\") or (cc[0:4] == \"4913\") or (cc[0:4] == \"4917\"):\n",
    "        print('VISAELECTRON')\n",
    "    else:\n",
    "        print(\"VISA\")\n",
    "if ((cc[0:2] == \"34\") or (cc[0:2] == \"37\")) and (len(cc) == 15):\n",
    "    print(\"AMEX\")\n",
    "if (cc[0:2] == \"36\") and (len(cc) == 14):\n",
    "    print(\"Diners Club\")\n",
    "    \n"
   ]
  },
  {
   "cell_type": "code",
   "execution_count": 39,
   "metadata": {},
   "outputs": [
    {
     "data": {
      "text/html": [
       "<div>\n",
       "<style>\n",
       "    .dataframe thead tr:only-child th {\n",
       "        text-align: right;\n",
       "    }\n",
       "\n",
       "    .dataframe thead th {\n",
       "        text-align: left;\n",
       "    }\n",
       "\n",
       "    .dataframe tbody tr th {\n",
       "        vertical-align: top;\n",
       "    }\n",
       "</style>\n",
       "<table border=\"1\" class=\"dataframe\">\n",
       "  <thead>\n",
       "    <tr style=\"text-align: right;\">\n",
       "      <th></th>\n",
       "      <th>country</th>\n",
       "      <th>date</th>\n",
       "      <th>experiment_id</th>\n",
       "      <th>order_id</th>\n",
       "      <th>spend_usd</th>\n",
       "      <th>user_id</th>\n",
       "      <th>vertical</th>\n",
       "    </tr>\n",
       "  </thead>\n",
       "  <tbody>\n",
       "    <tr>\n",
       "      <th>0</th>\n",
       "      <td>JP</td>\n",
       "      <td>20170402</td>\n",
       "      <td>12624548</td>\n",
       "      <td>5813140433216629693</td>\n",
       "      <td>16.138855</td>\n",
       "      <td>5006730028073359543</td>\n",
       "      <td>ANDROID_APPS</td>\n",
       "    </tr>\n",
       "    <tr>\n",
       "      <th>1</th>\n",
       "      <td>US</td>\n",
       "      <td>20170403</td>\n",
       "      <td>12624549</td>\n",
       "      <td>16333056276711034931</td>\n",
       "      <td>9.990000</td>\n",
       "      <td>5938685669571545259</td>\n",
       "      <td>ANDROID_APPS</td>\n",
       "    </tr>\n",
       "    <tr>\n",
       "      <th>2</th>\n",
       "      <td>JP</td>\n",
       "      <td>20170404</td>\n",
       "      <td>12624548</td>\n",
       "      <td>11227119161741298366</td>\n",
       "      <td>19.887087</td>\n",
       "      <td>17623708458399141713</td>\n",
       "      <td>ANDROID_APPS</td>\n",
       "    </tr>\n",
       "    <tr>\n",
       "      <th>3</th>\n",
       "      <td>US</td>\n",
       "      <td>20170403</td>\n",
       "      <td>12624548</td>\n",
       "      <td>11927299833124210932</td>\n",
       "      <td>19.990000</td>\n",
       "      <td>18042812344456618148</td>\n",
       "      <td>ANDROID_APPS</td>\n",
       "    </tr>\n",
       "    <tr>\n",
       "      <th>4</th>\n",
       "      <td>JP</td>\n",
       "      <td>20170403</td>\n",
       "      <td>12624549</td>\n",
       "      <td>11644727017708872749</td>\n",
       "      <td>88.220093</td>\n",
       "      <td>4325104700699531031</td>\n",
       "      <td>ANDROID_APPS</td>\n",
       "    </tr>\n",
       "  </tbody>\n",
       "</table>\n",
       "</div>"
      ],
      "text/plain": [
       "  country      date  experiment_id              order_id  spend_usd  \\\n",
       "0      JP  20170402       12624548   5813140433216629693  16.138855   \n",
       "1      US  20170403       12624549  16333056276711034931   9.990000   \n",
       "2      JP  20170404       12624548  11227119161741298366  19.887087   \n",
       "3      US  20170403       12624548  11927299833124210932  19.990000   \n",
       "4      JP  20170403       12624549  11644727017708872749  88.220093   \n",
       "\n",
       "                user_id      vertical  \n",
       "0   5006730028073359543  ANDROID_APPS  \n",
       "1   5938685669571545259  ANDROID_APPS  \n",
       "2  17623708458399141713  ANDROID_APPS  \n",
       "3  18042812344456618148  ANDROID_APPS  \n",
       "4   4325104700699531031  ANDROID_APPS  "
      ]
     },
     "execution_count": 39,
     "metadata": {},
     "output_type": "execute_result"
    }
   ],
   "source": [
    "file_location = \"C:/Users/dell/Desktop/BA501/data/python_notebook-master/\"\n",
    "file_name = \"BA501_python_data.csv\"\n",
    "my_data = pd.read_csv(file_location+file_name)\n",
    "my_data.head()"
   ]
  },
  {
   "cell_type": "code",
   "execution_count": 108,
   "metadata": {
    "collapsed": true
   },
   "outputs": [],
   "source": [
    "#PrintCumulativeTimeSeries()\n",
    "def GetSeries(my_data, my_id, my_country, my_vertical):\n",
    "    table = my_data[[\"date\", \"spend_usd\"]][(my_data.experiment_id == my_id)&(my_data.country == my_country)&(my_vertical == my_data.vertical)]\n",
    "    series = np.cumsum(table.groupby('date')['spend_usd'].sum())\n",
    "    return(series)\n",
    "red = GetSeries(my_data, 12624548, \"JP\" , \"ANDROID_APPS\")\n",
    "blue = GetSeries(my_data, 12624549, \"JP\",\"ANDROID_APPS\")\n",
    "def PlotSeries(index_series, experiment_series, control_series):\n",
    "    df = pd.DataFrame(\n",
    "        {\n",
    "            \"experiment\": experiment_series.tolist(),\n",
    "            \"control\": control_series.tolist()\n",
    "        },\n",
    "        index = index_series.tolist(), # a range of dates\n",
    "        columns = [\"experiment\", \"control\"]\n",
    "    )\n",
    "    my_data.date = pd.to_datetime(my_data.date, format='%Y%m%d')\n",
    "\n",
    "    df.plot()\n",
    "    \n",
    "    \n",
    "date_series = my_data.date\n",
    "index_series = np.unique(date_series)\n",
    "#index_series\n",
    "\n",
    "\n",
    "\n",
    "def PrintCumulativeTimeSeries(my_data, experiment_ids, my_country, my_vertical):\n",
    "    # make sure our x-axis is consistent\n",
    "   \n",
    "   \n",
    "    index_series = np.unique(date_series) # unique date\n",
    "    index_series = np.sort(index_series) # sort by date\n",
    "    \n",
    "    \n",
    "    # data grouping\n",
    "    my_data = my_data.sort_values(\"date\", ascending=True, inplace=False)\n",
    "    treatment_series = GetSeries(my_data, experiment_ids[0],my_country, my_vertical)\n",
    "    control_series = GetSeries(my_data, experiment_ids[1],my_country, my_vertical)\n",
    "    \n",
    "    PlotSeries(index_series, treatment_series, control_series)\n",
    "    plt.gcf().autofmt_xdate()\n",
    "    \n",
    "    Rate=(treatment_series.iloc[-1]-control_series.iloc[-1])/control_series.iloc[-1]\n",
    "    print( \"{:.1%}\".format(Rate))\n",
    "\n"
   ]
  },
  {
   "cell_type": "code",
   "execution_count": null,
   "metadata": {
    "collapsed": true
   },
   "outputs": [],
   "source": []
  }
 ],
 "metadata": {
  "kernelspec": {
   "display_name": "python2",
   "language": "python",
   "name": "python2"
  },
  "language_info": {
   "codemirror_mode": {
    "name": "ipython",
    "version": 3
   },
   "file_extension": ".py",
   "mimetype": "text/x-python",
   "name": "python",
   "nbconvert_exporter": "python",
   "pygments_lexer": "ipython3",
   "version": "3.6.2"
  }
 },
 "nbformat": 4,
 "nbformat_minor": 2
}
